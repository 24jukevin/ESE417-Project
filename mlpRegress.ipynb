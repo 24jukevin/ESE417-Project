{
 "cells": [
  {
   "cell_type": "code",
   "execution_count": 1,
   "metadata": {},
   "outputs": [],
   "source": [
    "import numpy as np\n",
    "import pandas as pd\n",
    "import seaborn as sns\n",
    "import matplotlib.pyplot as plt\n",
    "import sklearn.datasets as skd\n",
    "import sklearn.model_selection as skm\n",
    "from sklearn.model_selection import GridSearchCV\n",
    "import sklearn.datasets\n",
    "from sklearn.neural_network import MLPClassifier, MLPRegressor\n",
    "from sklearn.metrics import accuracy_score\n",
    "from sklearn import preprocessing\n",
    "from sklearn.preprocessing import FunctionTransformer"
   ]
  },
  {
   "cell_type": "code",
   "execution_count": 20,
   "metadata": {},
   "outputs": [
    {
     "data": {
      "image/png": "[encoded data removed]",
      "text/plain": [
       "<Figure size 640x480 with 1 Axes>"
      ]
     },
     "metadata": {},
     "output_type": "display_data"
    }
   ],
   "source": [
    "# Importing the data into a data variable \n",
    "df = pd.read_csv('winequality-red.csv', header = 0, delimiter=';')\n",
    "headers = df.columns\n",
    "data = df.values\n",
    "\n",
    "# Obtaining the feature matrix into the variable X\n",
    "#X = data[:,:-1]\n",
    "X = df.drop(['fixed acidity','quality'], axis=1)\n",
    "feature_names = headers[:-1]\n",
    "y = data[:,11]\n",
    "y = y-3\n",
    "output_names = headers[11]\n",
    "\n",
    "# Splitting the data set to training and test sets\n",
    "# with test_size = 30%\n",
    "X_train, X_test, y_train, y_test = skm.train_test_split(X,y,test_size = 0.3, random_state=42)\n",
    "\n",
    "scaler = preprocessing.MinMaxScaler().fit(X_train)\n",
    "X_train = scaler.transform(X_train)\n",
    "X_test = scaler.transform(X_test)\n",
    "\n",
    "scaler = preprocessing.StandardScaler().fit(X_train)\n",
    "X_train = scaler.transform(X_train)\n",
    "X_test = scaler.transform(X_test)\n",
    "\n",
    "unique_values, counts = np.unique(y, return_counts=True)\n",
    "\n",
    "plt.pie(counts,shadow=True,autopct='%.1f%%')\n",
    "plt.legend(unique_values)\n",
    "plt.show()"
   ]
  },
  {
   "cell_type": "code",
   "execution_count": 21,
   "metadata": {},
   "outputs": [
    {
     "name": "stdout",
     "output_type": "stream",
     "text": [
      "best test nodes =160\n",
      "best test accuracy =0.6520833333333333\n",
      "best train nodes =160\n",
      "best train accuracy =0.998212689901698\n"
     ]
    }
   ],
   "source": [
    "best_train_acc = 0.0\n",
    "best_test_acc = 0.0\n",
    "best_test_nodes = 160\n",
    "best_train_nodes = 160\n",
    "\n",
    "# Setting a range of hidden node sizes to test\n",
    "# from 10 to 100 in incremenets of 1\n",
    "hidden_node_sizes = range(160, 161, 1)\n",
    "layer_size = range(6,7,1)\n",
    "\n",
    "# Initializing variables to store best accuracy and hidden node size\n",
    "accuracy_list = []\n",
    "\n",
    "# Iterating through the range of hidden node sizes\n",
    "\n",
    "for layer in layer_size:\n",
    "    \n",
    "    for hidden_node in hidden_node_sizes:\n",
    "\n",
    "        # Creating the MLP Classifier using the hidden_node_sizes variable\n",
    "        # on each iteration\n",
    "        mlp = MLPRegressor(hidden_layer_sizes=((hidden_node,)*layer)\\\n",
    "                            ,max_iter=10000,\\\n",
    "                            random_state=30, activation='relu',alpha=0.01)\n",
    "\n",
    "        # Fitting the MLP on the training data set\n",
    "        mlp.fit(X_train, y_train)\n",
    "\n",
    "        # Making predictions on the test and training set\n",
    "        y_pred_test = mlp.predict(X_test)\n",
    "        y_pred_test = np.around(y_pred_test)\n",
    "        y_pred_train = mlp.predict(X_train)\n",
    "        y_pred_train = np.around(y_pred_train)\n",
    "        # Calculating the accuracy\n",
    "        accuracy_test = accuracy_score(y_test, y_pred_test)\n",
    "        accuracy_train = accuracy_score(y_train,y_pred_train)\n",
    "        if accuracy_test > best_test_acc:\n",
    "            best_test_nodes = hidden_node\n",
    "            best_test_acc = accuracy_test\n",
    "        if accuracy_train > best_train_acc:\n",
    "            best_train_nodes = hidden_node\n",
    "            best_train_acc = accuracy_train\n",
    "        # accuracy_list.append(accuracy)\n",
    "\n",
    "print(f'best test nodes ={best_test_nodes}')\n",
    "print(f'best test accuracy ={best_test_acc}')\n",
    "print(f'best train nodes ={best_train_nodes}')\n",
    "print(f'best train accuracy ={best_train_acc}')"
   ]
  },
  {
   "cell_type": "code",
   "execution_count": 3,
   "metadata": {},
   "outputs": [
    {
     "name": "stderr",
     "output_type": "stream",
     "text": [
      "/Users/jkevin/opt/anaconda3/lib/python3.9/site-packages/sklearn/neural_network/_multilayer_perceptron.py:699: UserWarning: Training interrupted by user.\n",
      "  warnings.warn(\"Training interrupted by user.\")\n"
     ]
    }
   ],
   "source": [
    "hidden_node_test = range(158,159,1)\n",
    "hidden_layer_test = range(1,2,1)\n",
    "\n",
    "# Define the parameter grid for GridSearchCV\n",
    "param_grid = {\n",
    "    'hidden_layer_sizes': [(hidden_node,) * hidden_layer \\\n",
    "                        for hidden_node in hidden_node_test \\\n",
    "                        for hidden_layer in hidden_layer_test],\n",
    "    #'activation': ['relu','tanh','logistic'],\n",
    "    'activation': ['relu'],\n",
    "    'solver': ['adam'],\n",
    "    'alpha': [0.001,0.01],\n",
    "    'learning_rate': ['constant'],\n",
    "    'learning_rate_init': [0.1]\n",
    "}\n",
    "\n",
    "mlp = MLPRegressor(max_iter=1000, random_state=42)\n",
    "\n",
    "# Perform a grid search using cross-validation\n",
    "grid_search = GridSearchCV(mlp, param_grid, cv=5)\n",
    "grid_search.fit(X_train, y_train)\n",
    "\n",
    "# Print the best parameters and the corresponding accuracy\n",
    "print(f\"Best parameters found: {grid_search.best_params_}\")\n",
    "print(f\"Best accuracy: {grid_search.best_score_}\")\n",
    "\n",
    "# Evaluate the best model on the test set\n",
    "y_pred = grid_search.predict(X_test)\n",
    "y_pred = np.around(y_pred)\n",
    "accuracy = accuracy_score(y_test, y_pred)\n",
    "print(f\"Test set accuracy: {accuracy}\")"
   ]
  }
 ],
 "metadata": {
  "kernelspec": {
   "display_name": "base",
   "language": "python",
   "name": "python3"
  },
  "language_info": {
   "codemirror_mode": {
    "name": "ipython",
    "version": 3
   },
   "file_extension": ".py",
   "mimetype": "text/x-python",
   "name": "python",
   "nbconvert_exporter": "python",
   "pygments_lexer": "ipython3",
   "version": "3.9.13"
  },
  "orig_nbformat": 4,
  "vscode": {
   "interpreter": {
    "hash": "f3cb8cd1a3e132606842479b9f7252ada6e051fb6ffa199d7293e4fa5b133f5a"
   }
  }
 },
 "nbformat": 4,
 "nbformat_minor": 2
}
