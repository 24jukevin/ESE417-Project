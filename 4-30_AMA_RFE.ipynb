{
 "cells": [
  {
   "cell_type": "code",
   "execution_count": 98,
   "metadata": {},
   "outputs": [],
   "source": [
    "from sklearn.decomposition import PCA\n",
    "from sklearn.pipeline import Pipeline\n",
    "from sklearn.feature_selection import SelectFromModel, SelectKBest, chi2, RFE\n",
    "from sklearn.ensemble import RandomForestClassifier\n",
    "from sklearn.model_selection import train_test_split, GridSearchCV\n",
    "from sklearn.preprocessing import MinMaxScaler, StandardScaler\n",
    "from sklearn.svm import LinearSVC\n",
    "import pandas as pd\n",
    "import numpy as np\n",
    "from sklearn.utils import resample\n",
    "\n",
    "# Load the dataset\n",
    "url = \"https://archive.ics.uci.edu/ml/machine-learning-databases/wine-quality/winequality-red.csv\"\n",
    "df = pd.read_csv(url, sep=\";\")\n",
    "\n",
    "# Prepare the data\n",
    "X = df.drop('quality', axis=1)\n",
    "y = df['quality']\n",
    "\n",
    "X_train, X_test, y_train, y_test = train_test_split(X, y, test_size=0.2, random_state=42,stratify=y)"
   ]
  },
  {
   "cell_type": "code",
   "execution_count": 103,
   "metadata": {},
   "outputs": [
    {
     "name": "stdout",
     "output_type": "stream",
     "text": [
      "Best parameters: {'classification__bootstrap': True, 'classification__max_depth': None, 'classification__min_samples_leaf': 1, 'classification__min_samples_split': 4, 'classification__n_estimators': 99, 'feature_selection__n_features_to_select': 7}\n",
      "              precision    recall  f1-score   support\n",
      "\n",
      "           3       0.00      0.00      0.00         2\n",
      "           4       1.00      0.09      0.17        11\n",
      "           5       0.74      0.76      0.75       136\n",
      "           6       0.65      0.73      0.69       128\n",
      "           7       0.64      0.53      0.58        40\n",
      "           8       1.00      0.33      0.50         3\n",
      "\n",
      "    accuracy                           0.69       320\n",
      "   macro avg       0.67      0.41      0.45       320\n",
      "weighted avg       0.70      0.69      0.68       320\n",
      "\n"
     ]
    },
    {
     "name": "stderr",
     "output_type": "stream",
     "text": [
      "/opt/anaconda3/lib/python3.9/site-packages/sklearn/metrics/_classification.py:1344: UndefinedMetricWarning: Precision and F-score are ill-defined and being set to 0.0 in labels with no predicted samples. Use `zero_division` parameter to control this behavior.\n",
      "  _warn_prf(average, modifier, msg_start, len(result))\n",
      "/opt/anaconda3/lib/python3.9/site-packages/sklearn/metrics/_classification.py:1344: UndefinedMetricWarning: Precision and F-score are ill-defined and being set to 0.0 in labels with no predicted samples. Use `zero_division` parameter to control this behavior.\n",
      "  _warn_prf(average, modifier, msg_start, len(result))\n",
      "/opt/anaconda3/lib/python3.9/site-packages/sklearn/metrics/_classification.py:1344: UndefinedMetricWarning: Precision and F-score are ill-defined and being set to 0.0 in labels with no predicted samples. Use `zero_division` parameter to control this behavior.\n",
      "  _warn_prf(average, modifier, msg_start, len(result))\n"
     ]
    }
   ],
   "source": [
    "\n",
    "pipe = Pipeline([\n",
    "    ('scaling', StandardScaler()),\n",
    "    ('feature_selection', RFE(estimator=RandomForestClassifier(random_state=42,class_weight='balanced'))),\n",
    "    ('classification', RandomForestClassifier(random_state=42,class_weight='balanced'))\n",
    "])\n",
    "\n",
    "param_grid = {\n",
    "    'feature_selection__n_features_to_select': [5,6,7,8],\n",
    "    'classification__n_estimators': [98,99,100,101,102],\n",
    "    'classification__max_depth': [None],\n",
    "    'classification__min_samples_split': [4,5,6],\n",
    "    'classification__min_samples_leaf': [1,2,3,4],\n",
    "    'classification__bootstrap': [True],\n",
    "}\n",
    "\n",
    "grid_search = GridSearchCV(pipe, param_grid=param_grid, scoring='f1_weighted', cv=5, n_jobs=-1)\n",
    "grid_search.fit(X_train, y_train)\n",
    "\n",
    "# Print the best parameters\n",
    "best_params = grid_search.best_params_\n",
    "print(f\"Best parameters: {best_params}\")\n",
    "\n",
    "# Make predictions\n",
    "y_pred = grid_search.predict(X_test)\n",
    "\n",
    "# Print classification report\n",
    "print(classification_report(y_test, y_pred))\n"
   ]
  },
  {
   "cell_type": "code",
   "execution_count": 104,
   "metadata": {},
   "outputs": [
    {
     "name": "stdout",
     "output_type": "stream",
     "text": [
      "               Predictor  Importance\n",
      "3         residual sugar           7\n",
      "5    free sulfur dioxide           6\n",
      "0          fixed acidity           5\n",
      "8                     pH           4\n",
      "4              chlorides           3\n",
      "2            citric acid           2\n",
      "1       volatile acidity           1\n",
      "6   total sulfur dioxide           1\n",
      "7                density           1\n",
      "9              sulphates           1\n",
      "10               alcohol           1\n"
     ]
    }
   ],
   "source": [
    "feature_select = RFE(estimator=RandomForestClassifier(random_state=42,class_weight='balanced')).fit(X_train,y_train)\n",
    "\n",
    "importances = feature_select.ranking_\n",
    "feature_names = df_upsampled.drop(['quality'],axis=1).columns\n",
    "\n",
    "# Create a DataFrame to display the feature importances\n",
    "feature_importances = pd.DataFrame({'Predictor': list(feature_names), 'Importance': importances})\n",
    "feature_importances.sort_values(by='Importance', ascending=False, inplace=True)\n",
    "print(feature_importances)\n",
    "\n",
    "\n"
   ]
  }
 ],
 "metadata": {
  "kernelspec": {
   "display_name": "base",
   "language": "python",
   "name": "python3"
  },
  "language_info": {
   "codemirror_mode": {
    "name": "ipython",
    "version": 3
   },
   "file_extension": ".py",
   "mimetype": "text/x-python",
   "name": "python",
   "nbconvert_exporter": "python",
   "pygments_lexer": "ipython3",
   "version": "3.9.13"
  },
  "orig_nbformat": 4
 },
 "nbformat": 4,
 "nbformat_minor": 2
}
