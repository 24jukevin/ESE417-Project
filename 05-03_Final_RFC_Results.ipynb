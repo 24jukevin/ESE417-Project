{
 "cells": [
  {
   "cell_type": "code",
   "execution_count": 99,
   "metadata": {},
   "outputs": [
    {
     "name": "stdout",
     "output_type": "stream",
     "text": [
      "              precision    recall  f1-score   support\n",
      "\n",
      "           3       0.00      0.00      0.00         0\n",
      "           4       0.00      0.00      0.00         1\n",
      "           5       0.76      0.74      0.75       140\n",
      "           6       0.74      0.64      0.69       149\n",
      "           7       0.53      0.75      0.62        28\n",
      "           8       0.33      0.50      0.40         2\n",
      "\n",
      "    accuracy                           0.69       320\n",
      "   macro avg       0.39      0.44      0.41       320\n",
      "weighted avg       0.73      0.69      0.71       320\n",
      "\n"
     ]
    },
    {
     "name": "stderr",
     "output_type": "stream",
     "text": [
      "c:\\Users\\amera\\anaconda3\\lib\\site-packages\\sklearn\\metrics\\_classification.py:1318: UndefinedMetricWarning: Recall and F-score are ill-defined and being set to 0.0 in labels with no true samples. Use `zero_division` parameter to control this behavior.\n",
      "  _warn_prf(average, modifier, msg_start, len(result))\n",
      "c:\\Users\\amera\\anaconda3\\lib\\site-packages\\sklearn\\metrics\\_classification.py:1318: UndefinedMetricWarning: Recall and F-score are ill-defined and being set to 0.0 in labels with no true samples. Use `zero_division` parameter to control this behavior.\n",
      "  _warn_prf(average, modifier, msg_start, len(result))\n",
      "c:\\Users\\amera\\anaconda3\\lib\\site-packages\\sklearn\\metrics\\_classification.py:1318: UndefinedMetricWarning: Recall and F-score are ill-defined and being set to 0.0 in labels with no true samples. Use `zero_division` parameter to control this behavior.\n",
      "  _warn_prf(average, modifier, msg_start, len(result))\n"
     ]
    }
   ],
   "source": [
    "# Model with feature selection and scaling of data\n",
    "\n",
    "from sklearn.pipeline import Pipeline\n",
    "from sklearn.ensemble import RandomForestClassifier\n",
    "from sklearn.preprocessing import StandardScaler\n",
    "from sklearn.svm import LinearSVC\n",
    "from sklearn.model_selection import train_test_split\n",
    "from sklearn.feature_selection import SelectFromModel\n",
    "import pandas as pd\n",
    "import numpy as np\n",
    "import matplotlib.pyplot as plt\n",
    "from sklearn.metrics import classification_report\n",
    "\n",
    "# Load the dataset\n",
    "df = pd.read_csv('winequality-red.csv', header = 0, delimiter=';')\n",
    "\n",
    "# Prepare the data\n",
    "X = df.drop(['quality'], axis=1)\n",
    "y = df['quality']\n",
    "\n",
    "X_train, X_test, y_train, y_test = train_test_split(X, y, test_size=0.2, random_state=42,stratify=y)\n",
    "\n",
    "# Defining the pipeline \n",
    "pipe = Pipeline([\n",
    "    ('scaling', StandardScaler()),\n",
    "    ('feature_selection', SelectFromModel(LinearSVC(max_iter=5000, dual=False, penalty='l1', random_state=42))),\n",
    "    ('classification', RandomForestClassifier(random_state=42,bootstrap=True,class_weight='balanced',max_depth=17,min_samples_leaf=1,min_samples_split=4,n_estimators=292))\n",
    "]).fit(X_train,y_train)\n",
    "\n",
    "# Make prediction base on X_test\n",
    "y_pred = pipe.predict(X_test)\n",
    "\n",
    "# Print the classification report\n",
    "print(classification_report(y_pred,y_test))"
   ]
  },
  {
   "cell_type": "code",
   "execution_count": 116,
   "metadata": {},
   "outputs": [
    {
     "name": "stdout",
     "output_type": "stream",
     "text": [
      "              precision    recall  f1-score   support\n",
      "\n",
      "           3       0.00      0.00      0.00         0\n",
      "           4       0.00      0.00      0.00         0\n",
      "           5       0.76      0.75      0.76       139\n",
      "           6       0.77      0.64      0.70       152\n",
      "           7       0.50      0.74      0.60        27\n",
      "           8       0.33      0.50      0.40         2\n",
      "\n",
      "    accuracy                           0.70       320\n",
      "   macro avg       0.39      0.44      0.41       320\n",
      "weighted avg       0.74      0.70      0.71       320\n",
      "\n"
     ]
    },
    {
     "name": "stderr",
     "output_type": "stream",
     "text": [
      "c:\\Users\\amera\\anaconda3\\lib\\site-packages\\sklearn\\metrics\\_classification.py:1318: UndefinedMetricWarning: Recall and F-score are ill-defined and being set to 0.0 in labels with no true samples. Use `zero_division` parameter to control this behavior.\n",
      "  _warn_prf(average, modifier, msg_start, len(result))\n",
      "c:\\Users\\amera\\anaconda3\\lib\\site-packages\\sklearn\\metrics\\_classification.py:1318: UndefinedMetricWarning: Recall and F-score are ill-defined and being set to 0.0 in labels with no true samples. Use `zero_division` parameter to control this behavior.\n",
      "  _warn_prf(average, modifier, msg_start, len(result))\n",
      "c:\\Users\\amera\\anaconda3\\lib\\site-packages\\sklearn\\metrics\\_classification.py:1318: UndefinedMetricWarning: Recall and F-score are ill-defined and being set to 0.0 in labels with no true samples. Use `zero_division` parameter to control this behavior.\n",
      "  _warn_prf(average, modifier, msg_start, len(result))\n"
     ]
    }
   ],
   "source": [
    "# Final RFC model results removing scaling of data, feature selection and changing class-weight from 'balanced' to 'balanced_subsample'\n",
    "\n",
    "# Defining the pipeline \n",
    "pipe = Pipeline([\n",
    "    ('classification', RandomForestClassifier(random_state=42,bootstrap=True,class_weight='balanced_subsample',max_depth=17,min_samples_leaf=1,min_samples_split=4,n_estimators=292))\n",
    "]).fit(X_train,y_train)\n",
    "\n",
    "# Make prediction base on X_test\n",
    "y_pred = pipe.predict(X_test)\n",
    "\n",
    "# Print the classification report\n",
    "print(classification_report(y_pred,y_test))"
   ]
  },
  {
   "cell_type": "code",
   "execution_count": 89,
   "metadata": {},
   "outputs": [
    {
     "name": "stdout",
     "output_type": "stream",
     "text": [
      "              precision    recall  f1-score   support\n",
      "\n",
      "           3       1.00      1.00      1.00         8\n",
      "           4       1.00      1.00      1.00        42\n",
      "           5       1.00      1.00      1.00       545\n",
      "           6       1.00      1.00      1.00       510\n",
      "           7       1.00      1.00      1.00       159\n",
      "           8       1.00      1.00      1.00        15\n",
      "\n",
      "    accuracy                           1.00      1279\n",
      "   macro avg       1.00      1.00      1.00      1279\n",
      "weighted avg       1.00      1.00      1.00      1279\n",
      "\n"
     ]
    }
   ],
   "source": [
    "# Obtaining classification report on fitted model showcasing final RFC model overfitting\n",
    "y_pred_train = pipe.predict(X_train)\n",
    "\n",
    "# Printing the classification report\n",
    "print(classification_report(y_pred_train,y_train))\n",
    "\n"
   ]
  },
  {
   "cell_type": "code",
   "execution_count": 117,
   "metadata": {},
   "outputs": [
    {
     "data": {
      "image/png": "[encoded data removed]",
      "text/plain": [
       "<Figure size 720x432 with 1 Axes>"
      ]
     },
     "metadata": {
      "needs_background": "light"
     },
     "output_type": "display_data"
    }
   ],
   "source": [
    "# Creating graph of results from LinearSVC feature selection\n",
    "\n",
    "# Fiting LinearSVC model separately\n",
    "feature_selector = LinearSVC(max_iter=100000, dual=False, penalty='l1', random_state=42, C=0.1)\n",
    "feature_selector.fit(X_train, y_train)\n",
    "\n",
    "# Getting the absolute values of the coefficients\n",
    "weights = np.abs(feature_selector.coef_)[0]\n",
    "\n",
    "# Creating a Series to map weights to their corresponding feature names\n",
    "weights_list = pd.Series(weights, index=X_train.columns)\n",
    "\n",
    "# Sortting the series for plotting\n",
    "weights_list = weights_list.sort_values(ascending=False)\n",
    "\n",
    "# Plotting the weights vs. the corresponding feature names\n",
    "plt.figure(figsize=(10, 6))\n",
    "weights_list.plot(kind='bar')\n",
    "plt.title('Weights vs. Features using RFC model + Feature selection')\n",
    "plt.show()\n",
    "\n"
   ]
  },
  {
   "cell_type": "code",
   "execution_count": 94,
   "metadata": {},
   "outputs": [
    {
     "data": {
      "image/png": "[encoded data removed]",
      "text/plain": [
       "<Figure size 720x432 with 1 Axes>"
      ]
     },
     "metadata": {
      "needs_background": "light"
     },
     "output_type": "display_data"
    }
   ],
   "source": [
    "# Plotting histogram of final RFC model results without feature selection and scaling of data\n",
    "plt.figure(figsize=(10,6))\n",
    "\n",
    "plt.hist(y_test, bins=np.arange(y.min(), y.max()+2), alpha=0.7, label='True Quality Score', color='blue', edgecolor='black')\n",
    "plt.hist(y_pred, bins=np.arange(y.min(), y.max()+2), alpha=0.7, label='Predicted Quality Score', color='red', edgecolor='black')\n",
    "\n",
    "plt.title('Histogram comparing predicted quality score & true quality score using final RFC model')\n",
    "plt.xlabel('Quality')\n",
    "plt.ylabel('Frequency')\n",
    "plt.legend()\n",
    "plt.show()\n"
   ]
  },
  {
   "cell_type": "code",
   "execution_count": 83,
   "metadata": {},
   "outputs": [
    {
     "name": "stdout",
     "output_type": "stream",
     "text": [
      "              precision    recall  f1-score   support\n",
      "\n",
      "           3       0.00      0.00      0.00         0\n",
      "           4       0.00      0.00      0.00         1\n",
      "           5       0.75      0.72      0.73       137\n",
      "           6       0.69      0.63      0.66       145\n",
      "           7       0.52      0.63      0.57        35\n",
      "           8       0.00      0.00      0.00         2\n",
      "\n",
      "    accuracy                           0.66       320\n",
      "   macro avg       0.33      0.33      0.33       320\n",
      "weighted avg       0.69      0.66      0.67       320\n",
      "\n"
     ]
    },
    {
     "name": "stderr",
     "output_type": "stream",
     "text": [
      "c:\\Users\\amera\\anaconda3\\lib\\site-packages\\sklearn\\metrics\\_classification.py:1318: UndefinedMetricWarning: Recall and F-score are ill-defined and being set to 0.0 in labels with no true samples. Use `zero_division` parameter to control this behavior.\n",
      "  _warn_prf(average, modifier, msg_start, len(result))\n",
      "c:\\Users\\amera\\anaconda3\\lib\\site-packages\\sklearn\\metrics\\_classification.py:1318: UndefinedMetricWarning: Recall and F-score are ill-defined and being set to 0.0 in labels with no true samples. Use `zero_division` parameter to control this behavior.\n",
      "  _warn_prf(average, modifier, msg_start, len(result))\n",
      "c:\\Users\\amera\\anaconda3\\lib\\site-packages\\sklearn\\metrics\\_classification.py:1318: UndefinedMetricWarning: Recall and F-score are ill-defined and being set to 0.0 in labels with no true samples. Use `zero_division` parameter to control this behavior.\n",
      "  _warn_prf(average, modifier, msg_start, len(result))\n"
     ]
    }
   ],
   "source": [
    "# Re-splitting data without stratifying to demonstrate base model results\n",
    "X_train, X_test, y_train, y_test = train_test_split(X, y, test_size=0.2, random_state=42)\n",
    "\n",
    "# Obtaining base RFC model results\n",
    "pipe = Pipeline([\n",
    "    ('classification', RandomForestClassifier(random_state=42))\n",
    "]).fit(X_train,y_train)\n",
    "\n",
    "# Make prediction base on X_test\n",
    "y_pred = pipe.predict(X_test)\n",
    "\n",
    "# Print the classification report\n",
    "print(classification_report(y_pred,y_test))"
   ]
  },
  {
   "cell_type": "code",
   "execution_count": 84,
   "metadata": {},
   "outputs": [
    {
     "name": "stdout",
     "output_type": "stream",
     "text": [
      "              precision    recall  f1-score   support\n",
      "\n",
      "           3       0.00      0.00      0.00         0\n",
      "           4       0.00      0.00      0.00         1\n",
      "           5       0.76      0.71      0.73       147\n",
      "           6       0.70      0.65      0.67       139\n",
      "           7       0.55      0.71      0.62        31\n",
      "           8       0.33      0.50      0.40         2\n",
      "\n",
      "    accuracy                           0.68       320\n",
      "   macro avg       0.39      0.43      0.40       320\n",
      "weighted avg       0.71      0.68      0.69       320\n",
      "\n"
     ]
    },
    {
     "name": "stderr",
     "output_type": "stream",
     "text": [
      "c:\\Users\\amera\\anaconda3\\lib\\site-packages\\sklearn\\metrics\\_classification.py:1318: UndefinedMetricWarning: Recall and F-score are ill-defined and being set to 0.0 in labels with no true samples. Use `zero_division` parameter to control this behavior.\n",
      "  _warn_prf(average, modifier, msg_start, len(result))\n",
      "c:\\Users\\amera\\anaconda3\\lib\\site-packages\\sklearn\\metrics\\_classification.py:1318: UndefinedMetricWarning: Recall and F-score are ill-defined and being set to 0.0 in labels with no true samples. Use `zero_division` parameter to control this behavior.\n",
      "  _warn_prf(average, modifier, msg_start, len(result))\n",
      "c:\\Users\\amera\\anaconda3\\lib\\site-packages\\sklearn\\metrics\\_classification.py:1318: UndefinedMetricWarning: Recall and F-score are ill-defined and being set to 0.0 in labels with no true samples. Use `zero_division` parameter to control this behavior.\n",
      "  _warn_prf(average, modifier, msg_start, len(result))\n"
     ]
    }
   ],
   "source": [
    "# Re-splitting data with stratifying to demonstrate base model results\n",
    "X_train, X_test, y_train, y_test = train_test_split(X, y, test_size=0.2, random_state=42, stratify=y)\n",
    "\n",
    "# Obtaining base + stratifying RFC model results\n",
    "pipe = Pipeline([\n",
    "    ('classification', RandomForestClassifier(random_state=42))\n",
    "]).fit(X_train,y_train)\n",
    "\n",
    "# Making prediction base on X_test\n",
    "y_pred = pipe.predict(X_test)\n",
    "\n",
    "# Printing the classification report\n",
    "print(classification_report(y_pred,y_test))"
   ]
  }
 ],
 "metadata": {
  "kernelspec": {
   "display_name": "base",
   "language": "python",
   "name": "python3"
  },
  "language_info": {
   "codemirror_mode": {
    "name": "ipython",
    "version": 3
   },
   "file_extension": ".py",
   "mimetype": "text/x-python",
   "name": "python",
   "nbconvert_exporter": "python",
   "pygments_lexer": "ipython3",
   "version": "3.9.12"
  },
  "orig_nbformat": 4
 },
 "nbformat": 4,
 "nbformat_minor": 2
}
