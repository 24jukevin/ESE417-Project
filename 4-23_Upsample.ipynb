{
 "cells": [
  {
   "cell_type": "code",
   "execution_count": 1,
   "id": "6ce7ac67",
   "metadata": {},
   "outputs": [
    {
     "data": {
      "image/png": "[encoded data removed]",
      "text/plain": [
       "<Figure size 640x480 with 1 Axes>"
      ]
     },
     "metadata": {},
     "output_type": "display_data"
    }
   ],
   "source": [
    "# Trying minmax normalization into StandardDevNormalization\n",
    "import numpy as np\n",
    "import pandas as pd\n",
    "import seaborn as sns\n",
    "import matplotlib.pyplot as plt\n",
    "import sklearn.datasets as skd\n",
    "import sklearn.model_selection as skm\n",
    "import sklearn.datasets\n",
    "from sklearn.utils import resample\n",
    "from sklearn.neural_network import MLPClassifier\n",
    "from sklearn.metrics import accuracy_score\n",
    "from sklearn import preprocessing\n",
    "\n",
    "# Importing the data into a data variable \n",
    "#f = open('winequality-red.csv')\n",
    "#headers = f.readline().strip().split(';')\n",
    "#data = np.loadtxt(f, delimiter=';')\n",
    "\n",
    "# Importing the data into a data variable \n",
    "df = pd.read_csv('winequality-red.csv', header = 0, delimiter=';')\n",
    "headers = df.columns\n",
    "df = df.drop_duplicates()\n",
    "\n",
    "# Splitting dataframe by quality class\n",
    "df_1 = df[df.quality==1]\n",
    "df_2 = df[df.quality==2]\n",
    "df_3 = df[df.quality==3]\n",
    "df_4 = df[df.quality==4]\n",
    "df_5 = df[df.quality==5]\n",
    "df_6 = df[df.quality==6]\n",
    "df_7 = df[df.quality==7]\n",
    "df_8 = df[df.quality==8]\n",
    "df_9 = df[df.quality==9]\n",
    "df_10 = df[df.quality==10]\n",
    "\n",
    "\n",
    "# Upsampling classes 3,4,7,8 to the number of instances under class 5\n",
    "\n",
    "df_3_upsampled = resample(df_3, replace=True,     # sample with replacement\n",
    "                      n_samples=np.shape(df_5)[0],    # to match class 5\n",
    "                      random_state=42) \n",
    "\n",
    "df_4_upsampled = resample(df_4, replace=True,     # sample with replacement\n",
    "                      n_samples=np.shape(df_5)[0],    # to match class 5\n",
    "                      random_state=42) \n",
    "df_7_upsampled = resample(df_7, replace=True,     # sample with replacement\n",
    "                      n_samples=np.shape(df_5)[0],    # to match class 5\n",
    "                      random_state=42) \n",
    "df_8_upsampled = resample(df_8, replace=True,     # sample with replacement\n",
    "                      n_samples=np.shape(df_5)[0],    # to match class 5\n",
    "                      random_state=42) \n",
    "\n",
    "\n",
    "# Putting together all split dataframes together to include upsampled classes\n",
    "df_upsampled = pd.concat([df_5,df_6,df_3_upsampled,df_4_upsampled,df_7_upsampled,df_8_upsampled])\n",
    "\n",
    "\n",
    "# Obtaining the feature matrix into the variable X. Removing residual sugar\n",
    "X = df_upsampled.drop(['residual sugar','quality'], axis=1)\n",
    "\n",
    "# Obtaining output vector\n",
    "y = df_upsampled.quality\n",
    "\n",
    "\n",
    "\n",
    "# Splitting the data set to training and test sets\n",
    "# with test_size = 20%\n",
    "X_train, X_test, y_train, y_test = skm.train_test_split(X,y,test_size = 0.2, random_state=42,stratify=y)\n",
    "\n",
    "\n",
    "# Standardizing each feature to have mean = 0 and variance = 1\n",
    "scaler = preprocessing.StandardScaler().fit(X_train)\n",
    "X_train = scaler.transform(X_train)\n",
    "X_test = scaler.transform(X_test)\n",
    "\n",
    "# Obtaining unique classes and counts for each instance under each class\n",
    "unique_values, counts = np.unique(y, return_counts=True)\n",
    "\n",
    "# Plotting the distribution of class instances as a pie chart\n",
    "plt.pie(counts,shadow=True,autopct='%.1f%%')\n",
    "plt.legend(unique_values)\n",
    "plt.show()"
   ]
  },
  {
   "cell_type": "code",
   "execution_count": 3,
   "id": "c82a521f",
   "metadata": {},
   "outputs": [
    {
     "name": "stdout",
     "output_type": "stream",
     "text": [
      "Best parameters found: {'activation': 'logistic', 'alpha': 0.0001, 'hidden_layer_sizes': (275,), 'learning_rate': 'constant', 'learning_rate_init': 0.1, 'solver': 'adam'}\n",
      "Best accuracy: 0.8486809271540853\n",
      "Test set accuracy: 0.8464912280701754\n"
     ]
    }
   ],
   "source": [
    "from sklearn.model_selection import GridSearchCV\n",
    "\n",
    "hidden_node_test = range(265,285,1)\n",
    "hidden_layer_test = range(1,3,1)\n",
    "\n",
    "# Define the parameter grid for GridSearchCV\n",
    "param_grid = {\n",
    "    'hidden_layer_sizes': [(hidden_node,) * hidden_layer \\\n",
    "                           for hidden_node in hidden_node_test \\\n",
    "                           for hidden_layer in hidden_layer_test],\n",
    "    'activation': ['relu','tanh','logistic'],\n",
    "    'solver': ['adam'],\n",
    "    'alpha': [0.0001,0.001,0.01],\n",
    "    'learning_rate': ['constant'],\n",
    "    'learning_rate_init': [0.1]\n",
    "}\n",
    "\n",
    "mlp = MLPClassifier(max_iter=1000, random_state=42)\n",
    "\n",
    "# Perform a grid search using cross-validation\n",
    "grid_search = GridSearchCV(mlp, param_grid, scoring='accuracy', cv=5, n_jobs=-1)\n",
    "grid_search.fit(X_train, y_train)\n",
    "\n",
    "# Print the best parameters and the corresponding accuracy\n",
    "print(f\"Best parameters found: {grid_search.best_params_}\")\n",
    "print(f\"Best accuracy: {grid_search.best_score_}\")\n",
    "\n",
    "# Evaluate the best model on the test set\n",
    "y_pred = grid_search.predict(X_test)\n",
    "accuracy = accuracy_score(y_test, y_pred)\n",
    "print(f\"Test set accuracy: {accuracy}\")"
   ]
  },
  {
   "cell_type": "code",
   "execution_count": 4,
   "id": "0e6b0f76",
   "metadata": {},
   "outputs": [
    {
     "name": "stdout",
     "output_type": "stream",
     "text": [
      "              precision    recall  f1-score   support\n",
      "\n",
      "           3       1.00      0.98      0.99       118\n",
      "           4       1.00      0.88      0.94       130\n",
      "           5       0.57      0.67      0.62        99\n",
      "           6       0.54      0.61      0.57        95\n",
      "           7       0.94      0.89      0.91       123\n",
      "           8       1.00      0.97      0.98       119\n",
      "\n",
      "    accuracy                           0.85       684\n",
      "   macro avg       0.84      0.83      0.84       684\n",
      "weighted avg       0.86      0.85      0.85       684\n",
      "\n"
     ]
    }
   ],
   "source": [
    "from sklearn.metrics import classification_report\n",
    "\n",
    "print(classification_report(y_pred,y_test))"
   ]
  },
  {
   "cell_type": "code",
   "execution_count": null,
   "id": "ccfc6c72",
   "metadata": {},
   "outputs": [],
   "source": []
  }
 ],
 "metadata": {
  "kernelspec": {
   "display_name": "Python 3 (ipykernel)",
   "language": "python",
   "name": "python3"
  },
  "language_info": {
   "codemirror_mode": {
    "name": "ipython",
    "version": 3
   },
   "file_extension": ".py",
   "mimetype": "text/x-python",
   "name": "python",
   "nbconvert_exporter": "python",
   "pygments_lexer": "ipython3",
   "version": "3.9.13"
  }
 },
 "nbformat": 4,
 "nbformat_minor": 5
}
